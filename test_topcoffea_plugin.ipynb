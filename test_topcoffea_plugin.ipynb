{
 "cells": [
  {
   "cell_type": "code",
   "execution_count": null,
   "id": "4405154c-21cb-4b20-9c00-fbf998dcfc0f",
   "metadata": {},
   "outputs": [],
   "source": [
    "!pip install numpy==1.21.4 pandas==1.3.4\n",
    "!git clone https://github.com/TopEFT/topcoffea.git"
   ]
  },
  {
   "cell_type": "code",
   "execution_count": null,
   "id": "3fb20e9e-101f-4f05-8c9b-8d1bf33cda1f",
   "metadata": {},
   "outputs": [],
   "source": [
    "import os\n",
    "from distributed import Client\n",
    "\n",
    "client = Client(\"tcp://172.17.0.5:8786\")\n",
    "client"
   ]
  },
  {
   "cell_type": "code",
   "execution_count": null,
   "id": "d614d844-312b-428b-af8f-32190aeb633b",
   "metadata": {},
   "outputs": [],
   "source": [
    "# For some reason just importing the plugin like this doesn't work. The workaround I got to work was copy pasting\n",
    "#     the entire class definition into its own notebook cell and running from there.\n",
    "import PackagePlugin as pp\n",
    "plugin = pp.PackagePlugin(\"topcoffea\",skip_words=[\"analysis\"],restart=False,update_path=True)\n",
    "client.register_worker_plugin(plugin,nanny=True)"
   ]
  },
  {
   "cell_type": "code",
   "execution_count": null,
   "id": "bae7aaea-8f12-4ff9-a6f8-927cec1ff1b2",
   "metadata": {},
   "outputs": [],
   "source": [
    "def get_info():\n",
    "    from topcoffea.modules.paths import topcoffea_path\n",
    "    return topcoffea_path('.')\n",
    "client.run(get_info)"
   ]
  },
  {
   "cell_type": "code",
   "execution_count": null,
   "id": "c5f41ab0-6909-4f47-a2db-8c4d482cce36",
   "metadata": {},
   "outputs": [],
   "source": []
  }
 ],
 "metadata": {
  "kernelspec": {
   "display_name": "Python 3 (ipykernel)",
   "language": "python",
   "name": "python3"
  },
  "language_info": {
   "codemirror_mode": {
    "name": "ipython",
    "version": 3
   },
   "file_extension": ".py",
   "mimetype": "text/x-python",
   "name": "python",
   "nbconvert_exporter": "python",
   "pygments_lexer": "ipython3",
   "version": "3.8.12"
  }
 },
 "nbformat": 4,
 "nbformat_minor": 5
}
